{
  "nbformat": 4,
  "nbformat_minor": 0,
  "metadata": {
    "colab": {
      "provenance": [],
      "toc_visible": true,
      "authorship_tag": "ABX9TyOVPoFqhXlZVtlnzFuQ8lkn",
      "include_colab_link": true
    },
    "kernelspec": {
      "name": "python3",
      "display_name": "Python 3"
    },
    "language_info": {
      "name": "python"
    }
  },
  "cells": [
    {
      "cell_type": "markdown",
      "metadata": {
        "id": "view-in-github",
        "colab_type": "text"
      },
      "source": [
        "<a href=\"https://colab.research.google.com/github/simon-m-mudd/physical_geography_practicals/blob/main/physical_geography_climate_practical.ipynb\" target=\"_parent\"><img src=\"https://colab.research.google.com/assets/colab-badge.svg\" alt=\"Open In Colab\"/></a>"
      ]
    },
    {
      "cell_type": "markdown",
      "source": [
        "# Physical Geography Climate Practical"
      ],
      "metadata": {
        "id": "1gZ0-F2bKHV-"
      }
    },
    {
      "cell_type": "markdown",
      "source": [
        "*Last edit Simon Mudd 09/02/2024*\n",
        "\n",
        "This practical has been developed over many years by Chris Merchant, Simon Mudd, Simon Tett and Ruth Doherty, initial python conversion by Simon Mudd.  "
      ],
      "metadata": {
        "id": "NpDPizmsKLuB"
      }
    },
    {
      "cell_type": "markdown",
      "source": [
        "## Overview"
      ],
      "metadata": {
        "id": "05hOIVyiKf3o"
      }
    },
    {
      "cell_type": "markdown",
      "source": [
        "In this practical you will apply some concepts introduced in your climate lectures in order to make some simple calculations about the Earth’s climate.\n",
        "The learning outcomes are to:\n",
        "1.\tHave an understanding of very simple models of temperature at the Earth’s surface.\n",
        "2.\tHave an understanding of how the Earth’s temperature might change due to changes in solar irradiation and land use (as idealized as changes to albedo).\n",
        "3.\tHave an understanding of how long it takes the climate to change in response to changes in the above two factors.\n",
        "And to be able to;\n",
        "4.\tUse python to examine simple mathematical models.\n",
        "5.\tUse python to make plots illustrating the behaviour of simple mathematical and numerical models.\n"
      ],
      "metadata": {
        "id": "dpPyen6JKhpG"
      }
    },
    {
      "cell_type": "markdown",
      "source": [
        "## Introduction"
      ],
      "metadata": {
        "id": "6m8cZdvSKjTm"
      }
    },
    {
      "cell_type": "markdown",
      "source": [
        "Today you will be using python to examine what could be described as the world’s simplest climate model. This model uses some very basic equations to predict how the climate responds to changes in solar activity and land cover (via albedo). First we’ll go over the climate model (i.e., the science behind the model) and then you’ll get a chance to use a spreadsheet to explore the model."
      ],
      "metadata": {
        "id": "5IUYOCEgKlAW"
      }
    },
    {
      "cell_type": "markdown",
      "source": [
        "### Energy emitted from an object proprtional to temperature"
      ],
      "metadata": {
        "id": "OkEPg2ItMcEs"
      }
    },
    {
      "cell_type": "markdown",
      "source": [
        "In the late 1800s, two Austrian physicists figured out that heat energy emitted (radiated) from an object is proportional to the fourth power of its surface temperature. These two physicists were Josef Stefan, who came upon this result through experiments in 1879, and Ludwig Boltzman, who derived the relationship from thermodynamics in 1884. The result of their work is something called the Stefan-Boltzman Law, which is the basis for today’s practical. This is the Stefan-Boltzman law:\n",
        "\n",
        "$F = \\sigma T^4$  \t\t\t\t\t\t\t\t\t(1)\n",
        "\n",
        "where *F* is an energy flux, σ (the Greek letter sigma) is a constant called (unsurprisingly) the Stefan-Boltzman constant, and *T* is the temperature of the body (at its surface). *F* represents the rate at which an object loses heat from a unit area of its surface by radiating light or other wavelengths of radiation, and is usually in the units of Watts/m$^2$."
      ],
      "metadata": {
        "id": "ork9Vd2sMjRD"
      }
    },
    {
      "cell_type": "markdown",
      "source": [
        "### Solving for temperature if you know the heat flux"
      ],
      "metadata": {
        "id": "-531vPMFM2VU"
      }
    },
    {
      "cell_type": "markdown",
      "source": [
        "In the case of Earth, the wavelengths of Earth’s cooling to space are infrared  so we’ll label this flux $F_{IR}$. For this equation to work, $T$ must be expressed in the units of kelvin (which is degrees Celsius + 273), and the Stefan-Boltzman constant is 5.67 x 10$^{-8}$ $W/m^2/K^4$. Suppose you knew the energy flux and wanted to know the resulting temperature of some object (for example, the Earth). You just do a little bit of algebra and get:\n",
        "\n",
        "$ T = \\left(  \\frac{F_{IR}}{\\sigma} \\right)^{1/4}$\t\t\t\t\t\t\t\t\t(2)\n",
        "\n",
        "Since Earth is continually losing energy to Space by this mechanism, there must be a balancing inflow of energy to supply the heat (or else Earth’s surface would rapidly cool down). This is supplied by the solar energy arriving at Earth, allowing for the albedo of Earth’s atmosphere and surface (controlling how much of this energy is reflected from it):\n",
        "\n",
        "$ F_{sol} =  \\frac{S(1-a)}{4} $\t ,\t\t\t\t\t\t\t\t\t(3)\n",
        "\n",
        "where *S* is the solar constant (how much energy reaches the top of Earth’s atmosphere from the sun, per unit of area) and is equal to 1370 Watts/m$^2$, and a is the albedo (which is a dimensionless fraction). The average albedo of the Earth is ~0.3. The principle that the solar input heating Earth is in balance with the infrared energy radiated to space is an example of the important concept of “dynamic equilibrium’: that the state of a system is controlled by a balance between input and output flows (of energy, in this case). So, to the degree that Earth’s temperature is stable (which it approximately is) $F_{IR} = F_{sol}$. Therefore, sticking equation (3) and equation (2) together you can calculate the global average temperature of the Earth."
      ],
      "metadata": {
        "id": "lyD_yi-qNGv9"
      }
    },
    {
      "cell_type": "markdown",
      "source": [
        "### The slightly more complicated case of heat being emitted from the atmosphere"
      ],
      "metadata": {
        "id": "DuwidFIcM_V0"
      }
    },
    {
      "cell_type": "markdown",
      "source": [
        "It is not quite simple to interpret this temperature, however, because on Earth both the solid surface and the atmosphere emit heat, so equation (2) actually gives you the temperature at an average height from which heat is radiated to Space. This height is complicated to find (it depends on vertical distributions of temperature, clouds and gases in the atmosphere) and turns out to be 5.5 km. The temperature at the solid surface upon which we live can be determined by\n",
        "\n",
        "$T_{surf} = T+LH$,\t\t\t\t\t\t\t\t(4)\n",
        "\n",
        "where $L$ is something called the atmospheric lapse rate (how temperature changes with height in the atmosphere: it is 6 K/km) and $H$ is the average height from which radiation to space originates (that is, 5.5 km). So sticking all these equations together you get a very simple climate model:\n",
        "\n",
        "$T_{surf} = \\left(  \\frac{S(1-a)}{4 \\sigma} \\right)^{1/4}+LH$.\t\t\t\t\t\t\t(5)"
      ],
      "metadata": {
        "id": "yP_6TaXZM7mM"
      }
    },
    {
      "cell_type": "markdown",
      "source": [
        "## Practical part 1"
      ],
      "metadata": {
        "id": "vI2aFlhlNYaW"
      }
    },
    {
      "cell_type": "markdown",
      "source": [
        "If you did the first practical, you will know about code \"cells\" in this notebook.\n",
        "\n",
        "If you don't, here is the summary. This notebook is divided into cells (if you click on anyhing here a little box will form around it, that is a cell).\n",
        "\n",
        "Some of the cells are text cells. They don't do anything.\n",
        "\n",
        "Some of the cells are python code.\n",
        "\n",
        "**In Noteable** python cells have **In []:** written next to them.\n",
        "\n",
        "**In Google colab** python cells have a symbol that looks like a \"play\" button if you hover over them.\n",
        "\n",
        "In both of these environments, if you click on the cell and then type `shift+enter` the cell will run.\n",
        "\n",
        "The next cell is some code. It is a function that calculates equation (5) above. **Do not change anything in this cell**. But you will need to run it before you can start making temperature calcluations."
      ],
      "metadata": {
        "id": "o-isfyUboB-S"
      }
    },
    {
      "cell_type": "code",
      "source": [
        "import numpy as np\n",
        "\n",
        "def calculate_surface_temperature(S,albedo,lapse_rate = 6,height = 5.5,StefanBolz=0.0000000567):\n",
        "  \"\"\"\n",
        "  a function for calculating the surface tempurature in degrees Kelvin\n",
        "\n",
        "  args:\n",
        "    S (flt): Solar irradiation in W/m^2\n",
        "    albedo (flt): the albedo\n",
        "    lapse_rate (flt): the lapse rate in K/km. default set to 6.\n",
        "    height (flt): height from which radiation to space originates (km). Default is 5.5\n",
        "    StefanBolz (flt): StefanBoltzman coefficient in W/m^2/K^4\n",
        "\n",
        "  return:\n",
        "    the surface temperature in kelvin\n",
        "  \"\"\"\n",
        "\n",
        "  power_term = np.divide(np.multiply(S, np.subtract(1,albedo)),4*StefanBolz)\n",
        "  power_term = np.power(power_term,0.25)\n",
        "  surf_temp = np.add(power_term, lapse_rate*height)\n",
        "\n",
        "  return surf_temp\n"
      ],
      "metadata": {
        "id": "joNC_FA9WRBa"
      },
      "execution_count": null,
      "outputs": []
    },
    {
      "cell_type": "markdown",
      "source": [
        "Okay, now that you have the function, lets see if it works. We input the solar energy flux as well as the albedo to get the temperature in kelvin:"
      ],
      "metadata": {
        "id": "dnnpSwk3sHbA"
      }
    },
    {
      "cell_type": "code",
      "source": [
        "surf_temp_K = calculate_surface_temperature(1365,0.28)\n",
        "surf_temp_C = surf_temp_K-273\n",
        "print(\"The surface temperature is \"+str(surf_temp_C)+ \" degrees celsius\")"
      ],
      "metadata": {
        "id": "h94OcFMrYpxT"
      },
      "execution_count": null,
      "outputs": []
    },
    {
      "cell_type": "markdown",
      "source": [
        "Okay, now we can start exploring some behaviour of this simplified climate system.\n",
        "\n",
        "The first thing we want to know is how sensitive the climate system is to changes in solar irradiation.\n",
        "\n",
        "Direct measurements of solar irradiation have only been undertaken since ~1975. The data can be found here: http://www.acrim.com/\n",
        "\n",
        "To go further back than the satellite data others use what are called ‘proxy’ records of solar variability. One such proxy is an isotope called $^{10}$Be, it is produced in the atmosphere by cosmic rays and you can measure it in ice cores where, using various techniques like looking at annual bands, one can reconstruct which parts of the cores are from what date. One such proxy record is reported here:\n",
        "\n",
        "*Crowley, TJ (2000), Causes of climate change over the past 1000 years, Science, 289, 270-277.*\n",
        "\n",
        "The punch line is that solar irradiance has varied by ~0.1-0.3% over the last 1000 years."
      ],
      "metadata": {
        "id": "0w0HtRsgpVP0"
      }
    },
    {
      "cell_type": "markdown",
      "source": [
        "### Make a set of irradiation values and run them to see the effect on temperature"
      ],
      "metadata": {
        "id": "gC-JoOglQV3e"
      }
    },
    {
      "cell_type": "markdown",
      "source": [
        "I'm going to test some values that have a central value of 1365  W/m^2 (about today's value) and vary it by a conservative 0.4%.\n",
        "\n",
        "I am going to want these in an array of numbers, which is the standard way python looks at quantitative data.\n",
        "\n",
        "I know how to write this code since I have been doing this for a number of years, but you don't need all that experience, I just wrote the below prompt into Bing chat:\n",
        "\n",
        "Bing prompt: **I want to make a numpy array with 21 values that vary by 0.3% with 1365 as the middle value.**"
      ],
      "metadata": {
        "id": "eKulOOBZQmF3"
      }
    },
    {
      "cell_type": "code",
      "source": [
        "# Define the middle value and the percentage variation\n",
        "middle_value = 1365\n",
        "percentage_variation = 0.004\n",
        "\n",
        "# Calculate the start and end values\n",
        "start_value = middle_value * (1 - percentage_variation)\n",
        "end_value = middle_value * (1 + percentage_variation)\n",
        "\n",
        "# Create the numpy array\n",
        "S_values = np.linspace(start_value, end_value, 21)\n",
        "\n",
        "print(S_values)"
      ],
      "metadata": {
        "id": "f2VXRmgAYzp-"
      },
      "execution_count": null,
      "outputs": []
    },
    {
      "cell_type": "markdown",
      "source": [
        "Okay, now lets plug this in to the function and see what happens:"
      ],
      "metadata": {
        "id": "H9BiWdlL8BkN"
      }
    },
    {
      "cell_type": "code",
      "source": [
        "surf_temp_K = calculate_surface_temperature(S_values,0.30)\n",
        "print(\"Temperatures in Kelvin:\")\n",
        "print(surf_temp_K)\n",
        "print(\"And in degrees C:\")\n",
        "print(surf_temp_K-273)"
      ],
      "metadata": {
        "id": "7JPb0Diitpoq"
      },
      "execution_count": null,
      "outputs": []
    },
    {
      "cell_type": "code",
      "source": [
        "import pandas as pd\n",
        "\n",
        "# Create a dictionary where keys are column names and values are numpy arrays\n",
        "data = {\"temp_K\": surf_temp_K, \"S\": S_values}\n",
        "\n",
        "# Create the pandas DataFrame\n",
        "df = pd.DataFrame(data)\n",
        "\n",
        "print(df)"
      ],
      "metadata": {
        "id": "oU70iYfj9uRj"
      },
      "execution_count": null,
      "outputs": []
    },
    {
      "cell_type": "code",
      "source": [
        "import seaborn as sns\n",
        "import matplotlib.pyplot as plt\n",
        "\n",
        "\n",
        "sns.lineplot(data=df, x=\"S\", y=\"temp_K\")\n",
        "\n",
        "plt.title('Temperature in Kelvin as a function of S')\n",
        "plt.xlabel('S in W/m^2')\n",
        "plt.ylabel('Temperature (K)')\n",
        "\n",
        "# Add grey boxes in the background\n",
        "plt.grid(color='grey', linestyle='-', linewidth=0.25, alpha=0.5)"
      ],
      "metadata": {
        "id": "qn-12REO8Xmi"
      },
      "execution_count": null,
      "outputs": []
    },
    {
      "cell_type": "markdown",
      "source": [
        "Here is a bit of a test to see if you can use the above two blocks of code to make a plot of the temperature in degrees C as a function of S"
      ],
      "metadata": {
        "id": "ES3PZ_fN5Z35"
      }
    },
    {
      "cell_type": "code",
      "source": [
        "import seaborn as sns\n",
        "import matplotlib.pyplot as plt\n",
        "\n",
        "# Combine the three previous code blocks to make the same plot but in degrees Celsius rather than Kelvin.\n",
        "# Feel free to use the chat in Microsoft copilot for this.\n"
      ],
      "metadata": {
        "id": "KxSuf3VA5Zg2"
      },
      "execution_count": null,
      "outputs": []
    },
    {
      "cell_type": "markdown",
      "source": [
        "### Temperature as a function of albedo"
      ],
      "metadata": {
        "id": "rWi6ahMX6TIZ"
      }
    },
    {
      "cell_type": "markdown",
      "source": [
        "Below is a code block that we used to vary the the solar irradiation.\n",
        "\n",
        "* You will need to change the middle value.\n",
        "* You will need to change the percentage variation. For reference, a completely ice free, cloudless Earth would have an albedo of~0.25, and a completely ice covered Earth would have an albedo of ~0.6\n",
        "* I have renamed the variable Albedo_values\n",
        "\n"
      ],
      "metadata": {
        "id": "kNS2_iQy6gMa"
      }
    },
    {
      "cell_type": "code",
      "source": [
        "# Define the middle value and the percentage variation\n",
        "middle_value = 1365\n",
        "percentage_variation = 0.004\n",
        "\n",
        "# Calculate the start and end values\n",
        "start_value = middle_value * (1 - percentage_variation)\n",
        "end_value = middle_value * (1 + percentage_variation)\n",
        "\n",
        "# Create the numpy array\n",
        "Albedo_values = np.linspace(start_value, end_value, 21)\n",
        "\n",
        "print(Albedo_values)"
      ],
      "metadata": {
        "id": "RECp9Wtv9Txj"
      },
      "execution_count": null,
      "outputs": []
    },
    {
      "cell_type": "markdown",
      "source": [
        "Now you will need to make a few modifications to get the data ready for plotting.\n",
        "\n",
        "* We will use a constant value of the solar irradiation of 1361 W/m^2. Make sure you change this number below.\n",
        "* You need to calculate the temperature in Kelvin. The get it in degrees Celsius. You need tochange the code convert to kelvin (which is degree celcius + 273)"
      ],
      "metadata": {
        "id": "wW0fBfB17INv"
      }
    },
    {
      "cell_type": "code",
      "source": [
        "## First make the S value a single number\n",
        "S_value = 1500  ## You need to change this!!!\n",
        "\n",
        "## Now make calculate surface temperature\n",
        "surf_temp_K = calculate_surface_temperature(S_value,Albedo_values)\n",
        "\n",
        "## Now make the temperature in Celsius\n",
        "# You need to change the number in the next line!!\n",
        "surf_temp_C = surf_temp_K-10\n",
        "print(surf_temp_C)\n",
        "\n",
        "import pandas as pd\n",
        "\n",
        "# Create a dictionary where keys are column names and values are numpy arrays\n",
        "data = {\"temp_C\": surf_temp_C, \"Albedo\": Albedo_values}\n",
        "\n",
        "# Create the pandas DataFrame\n",
        "df = pd.DataFrame(data)\n",
        "\n",
        "print(df)"
      ],
      "metadata": {
        "id": "lg5g9IBk7M3h"
      },
      "execution_count": null,
      "outputs": []
    },
    {
      "cell_type": "markdown",
      "source": [
        "### Make a plot of the results!"
      ],
      "metadata": {
        "id": "0W45IcZQ9ObX"
      }
    },
    {
      "cell_type": "markdown",
      "source": [
        "You will need to change the `x` and `y` parameters below, and change the labels as well."
      ],
      "metadata": {
        "id": "hEitPWZ19Sea"
      }
    },
    {
      "cell_type": "code",
      "source": [
        "import seaborn as sns\n",
        "import matplotlib.pyplot as plt\n",
        "\n",
        "\n",
        "sns.lineplot(data=df, x=\"S\", y=\"temp_K\")\n",
        "\n",
        "plt.title('Temperature in Kelvin as a function of S')\n",
        "plt.xlabel('S in W/m^2')\n",
        "plt.ylabel('Temperature (K)')\n",
        "\n",
        "# Add grey boxes in the background\n",
        "plt.grid(color='grey', linestyle='-', linewidth=0.25, alpha=0.5)"
      ],
      "metadata": {
        "id": "vzKzpf6U8EPE"
      },
      "execution_count": null,
      "outputs": []
    },
    {
      "cell_type": "markdown",
      "source": [
        "The probable changes in albedo over the past millennia are much smaller thangoing from a dark earth to a frozen earth. For comparison’s sake, you shouldvary the albedo by ±0.4% (about the current mean of 0.3) and make a plot withlabels and captions. How much does the equilibrium temperature change by?Are temperature changes here linear?\n",
        "\n",
        "Share your plots with others in your practical group and get feedback on them– and give critical feedback to others. When giving feedback you might wantto think about the following: Are all axis and the plot labelled? Does the plothave units? Does the caption explain the elements of the plot? Is it pretty?"
      ],
      "metadata": {
        "id": "y16oMvoQ9k2n"
      }
    },
    {
      "cell_type": "markdown",
      "source": [
        "## Practical Part 2: Climate response time"
      ],
      "metadata": {
        "id": "4OvPaE5pDyKr"
      }
    },
    {
      "cell_type": "markdown",
      "source": [
        "Now that you have some idea about how sensitive the climate is to changes in albedoand solar activity, we will investigate how long it takes climate (or the climate’s temperature) to change if either albedo or solar activity changes.\n",
        "\n",
        "The climate cannot react instantaneously: it takes time to heat different parts of the earth surface system.\n",
        "\n",
        "Equation (5) describes an equilibrium model: it assumes the amount of energy entering the Earth surface system is the same as the energy radiating from the Earth surface system. It cannot tell you how fast the Earth will warm or cool if its energy balance changes.\n",
        "\n",
        "For example, if albedo decreases then the Earth will absorb more solar energy. It heats up until it radiates the same amount of heat as it absorbs (remember that according to the Stefan-Boltzman law the warmer an object is the more heat it radiates).\n",
        "\n",
        "It turns out that the rate at which the surface temperature changes is a function of all of the same things as the equilibrium temperature (S, a, L, H, and $\\sigma$), as well as somemeasures of how much energy it takes to heat up the near surface. The oceans are themain component of Earth’s surface system that needs to absorb energy before thesurface temperature increases. The change in surface temperature ($\\Delta T_{surf}$) over somechange in time ($\\Delta$t) is equal to:\n",
        "\n",
        "$\\frac{\\Delta T_{surf}}{\\Delta t} = \\frac{1}{MC} \\left(  \\frac{S(1-a)}{4} - \\sigma(T_{surf}-LH)^4\\right)$.\t(6)\n",
        "\n",
        "In mathematics, the symbol $\\Delta$ (which is the upper case Greek letter delta) indicates change.\n",
        "\n",
        "Strictly speaking, the left side of equation (6) is really  $\\partial$ $T_{surf}$ /  $\\partial t$, which also indicates the change in surface temperature for a change in time, but the curly symbol indicates an infinitesimal change.\n",
        "\n",
        "Programming languages can’t compute infinitesimal change,however, so we will use equation (7). The change in surface temperature over sometime period t is just the temperature at some time t+t minus the temperature attime t. We can write this as\n",
        "\n",
        "$\\frac{T_{surf}^{new}-T_{surf}^{old}}{\\Delta t} = \\frac{1}{MC} \\left(  \\frac{S(1-a)}{4} - \\sigma(T_{surf}^{old}-LH)^4\\right)$.\t(7)\n",
        "\n",
        "where the old and new superscripts just indicate the old and new temperatures. A little algebra gives:\n",
        "\n",
        "$T_{surf}^{new} = \\frac{\\Delta t}{MC} \\left(  \\frac{S(1-a)}{4} - \\sigma(T_{surf}^{old}-LH)^4\\right)$ + $T_{surf}^{old}$.\t(8)\n",
        "\n",
        "The term M is the average mass of water per square metre we heat in order to warm the planet. If we assume that all the Earth's thermal inertia is the upper ocean mixed layer, say, 100 m depth, then M = 0.7 * 100 m * 1000 kg /m3 = 70,000 kg / m2 where the 0.7 is just the fraction of the Earth’s surface covered by water and 1000 kg / m3 is the density of water.\n",
        "\n",
        "The term C is the heat capacity of water: ~4000 J/kg/K. In this practical we will use the units of years for $\\Delta t$. This unit of time is not the same as used in the other parameters (S for example) so you have to multiply $\\Delta t$ by a conversionfactor 3600*24*365 to get the correct temperature.\n",
        "\n",
        "Note: the SI unit Watts (W) is = J/s"
      ],
      "metadata": {
        "id": "U042UD9eEKFv"
      }
    },
    {
      "cell_type": "markdown",
      "source": [
        "### That fancy equation as code"
      ],
      "metadata": {
        "id": "3QVol1T_K5T-"
      }
    },
    {
      "cell_type": "markdown",
      "source": [
        "Below is equation (8) written in python code."
      ],
      "metadata": {
        "id": "vQhFCP2aK9t8"
      }
    },
    {
      "cell_type": "code",
      "source": [
        "import numpy as np\n",
        "\n",
        "def update_trasient_surface_temperature(T_surf_old,Delta_t=1,M=70000,C=4000,albedo=0.31,lapse_rate = 6,height = 5.5,StefanBolz=0.0000000567,S=1361):\n",
        "  \"\"\"\n",
        "  a function for calculating the surface tempurature in degrees Kelvin\n",
        "\n",
        "  args:\n",
        "    Delta_t (flt): timtestep in years\n",
        "    M (flt): average mass of water per squre metre we need to heat in kg/m^2\n",
        "    C (flt): heat capacity of water in J/kg/K\n",
        "    S (flt): Solar irradiation in W/m^2\n",
        "    albedo (flt): the albedo\n",
        "    lapse_rate (flt): the lapse rate in K/km. default set to 6.\n",
        "    height (flt): height from which radiation to space originates (km). Default is 5.5\n",
        "    StefanBolz (flt): StefanBoltzman coefficient in W/m^2/K^4\n",
        "\n",
        "  return:\n",
        "    the surface temperature in kelvin after a timestep\n",
        "  \"\"\"\n",
        "\n",
        "  first_term = 31536000*Delta_t/(M*C)  # Note the 31536000 is to convert years to seconds\n",
        "  second_term = S*(1-albedo)/4\n",
        "  power_term = T_surf_old-lapse_rate*height\n",
        "  third_term = StefanBolz*np.power(power_term,4)\n",
        "  surf_temp = first_term*(second_term-third_term)+T_surf_old\n",
        "\n",
        "  return surf_temp"
      ],
      "metadata": {
        "id": "dZ07TcE7D4Ht"
      },
      "execution_count": null,
      "outputs": []
    },
    {
      "cell_type": "markdown",
      "source": [
        "### Now see how quickly the surface temperature reacts to perturbation"
      ],
      "metadata": {
        "id": "FUHl_PvIV8H7"
      }
    },
    {
      "cell_type": "markdown",
      "source": [
        "The first thing you need to do is see what the starting temperature is for a given albedo and insolation value. We do this with the"
      ],
      "metadata": {
        "id": "620LO-75WGJk"
      }
    },
    {
      "cell_type": "code",
      "source": [
        "starting_albedo = 0.30\n",
        "starting_insolation = 1361\n",
        "starting_temp_K = calculate_surface_temperature(starting_insolation ,starting_albedo)\n",
        "print(\"The starting temperature in kelvin is: \"+ str(starting_temp_K))\n",
        "print(\"The starting temperature in degrees celsius is: \"+ str(starting_temp_K-273))"
      ],
      "metadata": {
        "id": "lr4RnpDLWE_L"
      },
      "execution_count": null,
      "outputs": []
    },
    {
      "cell_type": "markdown",
      "source": [
        "Now we repeatedly update the temperature with a new albedo and see how long it takes to react"
      ],
      "metadata": {
        "id": "c02WDWnuWvJc"
      }
    },
    {
      "cell_type": "code",
      "source": [
        "new_albedo = 0.325\n",
        "\n",
        "old_temp = starting_temp_K\n",
        "temp_C = []\n",
        "temp_C.append(starting_temp_K-273)\n",
        "t_ime = []\n",
        "t_ime.append(0)\n",
        "\n",
        "for i in range(1,50):\n",
        "  updated_temp = update_trasient_surface_temperature(old_temp,albedo=new_albedo)\n",
        "  temp_C.append(updated_temp-273)\n",
        "  t_ime.append(i)\n",
        "  old_temp=updated_temp\n",
        "\n",
        "\n",
        "import pandas as pd\n",
        "\n",
        "# Create a dictionary where keys are column names and values are numpy arrays\n",
        "data = {\"time\": t_ime, \"temp_C\": temp_C}\n",
        "\n",
        "# Create the pandas DataFrame\n",
        "df = pd.DataFrame(data)\n",
        "\n",
        "df.head(10)"
      ],
      "metadata": {
        "id": "MPaDMkSQWmo2"
      },
      "execution_count": null,
      "outputs": []
    },
    {
      "cell_type": "markdown",
      "source": [
        "Congratulations! You have actually used something called a finite difference model. It is one way scientists translate equations like equation (8) into something a computer can understand. A finite difference model is just one kind of numerical model. Organizations like the Met Office use considerably more complete and complex numerical models to predict climate and weather, but this kind of simple finite difference model is the first step in understanding climate scenarios.\n",
        "\n",
        "The finite difference model created a pandas dataframe called `df` that has the time and the temperature in celsius.\n",
        "\n",
        "You can either use Bing copilot or look at the plotting routines above to try to plot this data. You want to get the temperature as a function of time"
      ],
      "metadata": {
        "id": "-pJChpW9b3lr"
      }
    },
    {
      "cell_type": "code",
      "source": [
        "# Write a plotting script here. Base it on the plotting script above. You can also use an AI (like Bing copilot) to help you."
      ],
      "metadata": {
        "id": "OI6ZWzo-YVi3"
      },
      "execution_count": null,
      "outputs": []
    },
    {
      "cell_type": "markdown",
      "source": [
        "###Final steps"
      ],
      "metadata": {
        "id": "cX6F_lELct2w"
      }
    },
    {
      "cell_type": "markdown",
      "source": [
        "Numerical models are very good for trying out “what if” questions. Try a few different values of the final albedo value that differ from 0.3 by between -0.03 and +0.03 (0.27 to 0.33). Does the final equilibrium value depend on this?Working out when the model has got to equilibrium is quite hard. An\n",
        "alternative is to examine how long does the model take to get to halfway between the start and final values. Does this time depend on the albedo values?"
      ],
      "metadata": {
        "id": "11FqnTtFcvwz"
      }
    },
    {
      "cell_type": "markdown",
      "source": [
        "Change the “Average mass of water per square meter (kg/m^2)”. It is currently set to 0.7*100*1000. (Fraction of Earth covered by ocean multiplied by mixed layer depth multiplied by mass of 1 cubic meter of ocean). Change the mixed layer depth (and so the average mass of water per square meter) to 50m. How long does the model take to get  halfway to equilibrium and how does that compare with the case with a mixed layer depth of 100m? Does the time taken depend on the albedo? You might wantto reduce the timestep from 1 year so that can see the temperature evolutionin more detail."
      ],
      "metadata": {
        "id": "PJOVDMoCdATV"
      }
    },
    {
      "cell_type": "code",
      "source": [
        "## Here is a hint as to how to change that value\n",
        "#updated_temp = update_trasient_surface_temperature(old_temp,albedo=new_albedo,M=70000)"
      ],
      "metadata": {
        "id": "4EkCa4xVctLW"
      },
      "execution_count": null,
      "outputs": []
    },
    {
      "cell_type": "markdown",
      "source": [
        "Briefly discuss your results with others in your practical group. When doing soyou might think about what plot you want to show to make the point you wantto make."
      ],
      "metadata": {
        "id": "2r_vpjISdXlp"
      }
    }
  ]
}