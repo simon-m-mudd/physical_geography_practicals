{
  "nbformat": 4,
  "nbformat_minor": 0,
  "metadata": {
    "colab": {
      "provenance": [],
      "toc_visible": true,
      "authorship_tag": "ABX9TyNqNok66RqL6bahwfpHbHCG",
      "include_colab_link": true
    },
    "kernelspec": {
      "name": "python3",
      "display_name": "Python 3"
    },
    "language_info": {
      "name": "python"
    }
  },
  "cells": [
    {
      "cell_type": "markdown",
      "metadata": {
        "id": "view-in-github",
        "colab_type": "text"
      },
      "source": [
        "<a href=\"https://colab.research.google.com/github/simon-m-mudd/physical_geography_practicals/blob/main/Physical_Geography_climate_practical.ipynb\" target=\"_parent\"><img src=\"https://colab.research.google.com/assets/colab-badge.svg\" alt=\"Open In Colab\"/></a>"
      ]
    },
    {
      "cell_type": "markdown",
      "source": [
        "# Physical Geography Climate Practical"
      ],
      "metadata": {
        "id": "1gZ0-F2bKHV-"
      }
    },
    {
      "cell_type": "markdown",
      "source": [
        "*Last edit Simon Mudd 25/01/2023*\n",
        "\n",
        "This practical has been developed over many years by Chris Merchant, Simon Mudd, Simon Tett and Ruth Doherty, initial python conversion by Simon Mudd.  "
      ],
      "metadata": {
        "id": "NpDPizmsKLuB"
      }
    },
    {
      "cell_type": "markdown",
      "source": [
        "## Overview"
      ],
      "metadata": {
        "id": "05hOIVyiKf3o"
      }
    },
    {
      "cell_type": "markdown",
      "source": [
        "In this practical you will apply some concepts introduced in your climate lectures in order to make some simple calculations about the Earth’s climate.\n",
        "The learning outcomes are to:\n",
        "1.\tHave an understanding of very simple models of temperature at the Earth’s surface.\n",
        "2.\tHave an understanding of how the Earth’s temperature might change due to changes in solar irradiation and land use (as idealized as changes to albedo).\n",
        "3.\tHave an understanding of how long it takes the climate to change in response to changes in the above two factors.\n",
        "And to be able to;\n",
        "4.\tUse a spreadsheet to examine simple mathematical models.\n",
        "5.\tUse a spreadsheet to make plots illustrating the behaviour of simple mathematical and numerical models.\n"
      ],
      "metadata": {
        "id": "dpPyen6JKhpG"
      }
    },
    {
      "cell_type": "markdown",
      "source": [
        "## Introduction"
      ],
      "metadata": {
        "id": "6m8cZdvSKjTm"
      }
    },
    {
      "cell_type": "markdown",
      "source": [
        "Today you will be using python to examine what could be described as the world’s simplest climate model. This model uses some very basic equations to predict how the climate responds to changes in solar activity and land cover (via albedo). First we’ll go over the climate model (i.e., the science behind the model) and then you’ll get a chance to use a spreadsheet to explore the model."
      ],
      "metadata": {
        "id": "5IUYOCEgKlAW"
      }
    },
    {
      "cell_type": "markdown",
      "source": [
        "### Energy emitted from an object proprtional to temperature"
      ],
      "metadata": {
        "id": "OkEPg2ItMcEs"
      }
    },
    {
      "cell_type": "markdown",
      "source": [
        "In the late 1800s, two Austrian physicists figured out that heat energy emitted (radiated) from an object is proportional to the fourth power of its surface temperature. These two physicists were Josef Stefan, who came upon this result through experiments in 1879, and Ludwig Boltzman, who derived the relationship from thermodynamics in 1884. The result of their work is something called the Stefan-Boltzman Law, which is the basis for today’s practical. This is the Stefan-Boltzman law:\n",
        "\n",
        "$F = \\sigma T^4$  \t\t\t\t\t\t\t\t\t(1)\n",
        "\n",
        "where *F* is an energy flux, σ (the Greek letter sigma) is a constant called (unsurprisingly) the Stefan-Boltzman constant, and *T* is the temperature of the body (at its surface). *F* represents the rate at which an object loses heat from a unit area of its surface by radiating light or other wavelengths of radiation, and is usually in the units of Watts/m$^2$."
      ],
      "metadata": {
        "id": "ork9Vd2sMjRD"
      }
    },
    {
      "cell_type": "markdown",
      "source": [
        "### Solving for temperature if you know the heat flux"
      ],
      "metadata": {
        "id": "-531vPMFM2VU"
      }
    },
    {
      "cell_type": "markdown",
      "source": [
        "In the case of Earth, the wavelengths of Earth’s cooling to space are infrared  so we’ll label this flux $F_{IR}$. For this equation to work, $T$ must be expressed in the units of kelvin (which is degrees Celsius + 273), and the Stefan-Boltzman constant is 5.67 x 10$^{-8}$ $W/m^2/K^4$. Suppose you knew the energy flux and wanted to know the resulting temperature of some object (for example, the Earth). You just do a little bit of algebra and get:\n",
        "\n",
        "$ T = \\left(  \\frac{F_{IR}}{\\sigma} \\right)^{1/4}$\t\t\t\t\t\t\t\t\t(2)\n",
        "\n",
        "Since Earth is continually losing energy to Space by this mechanism, there must be a balancing inflow of energy to supply the heat (or else Earth’s surface would rapidly cool down). This is supplied by the solar energy arriving at Earth, allowing for the albedo of Earth’s atmosphere and surface (controlling how much of this energy is reflected from it):\n",
        "\n",
        "$ F_{sol} =  \\frac{S(1-a)}{4} $\t ,\t\t\t\t\t\t\t\t\t(3)\n",
        "\n",
        "where *S* is the solar constant (how much energy reaches the top of Earth’s atmosphere from the sun, per unit of area) and is equal to 1370 Watts/m$^2$, and a is the albedo (which is a dimensionless fraction). The average albedo of the Earth is ~0.3. The principle that the solar input heating Earth is in balance with the infrared energy radiated to space is an example of the important concept of “dynamic equilibrium’: that the state of a system is controlled by a balance between input and output flows (of energy, in this case). So, to the degree that Earth’s temperature is stable (which it approximately is) $F_{IR} = F_{sol}$. Therefore, sticking equation (3) and equation (2) together you can calculate the global average temperature of the Earth."
      ],
      "metadata": {
        "id": "lyD_yi-qNGv9"
      }
    },
    {
      "cell_type": "markdown",
      "source": [
        "### The slightly more complicated case of heat being emitted from the atmosphere"
      ],
      "metadata": {
        "id": "DuwidFIcM_V0"
      }
    },
    {
      "cell_type": "markdown",
      "source": [
        "It is not quite simple to interpret this temperature, however, because on Earth both the solid surface and the atmosphere emit heat, so equation (2) actually gives you the temperature at an average height from which heat is radiated to Space. This height is complicated to find (it depends on vertical distributions of temperature, clouds and gases in the atmosphere) and turns out to be 5.5 km. The temperature at the solid surface upon which we live can be determined by\n",
        "\n",
        "$T_{surf} = T+LH$,\t\t\t\t\t\t\t\t(4)\n",
        "\n",
        "where $L$ is something called the atmospheric lapse rate (how temperature changes with height in the atmosphere: it is 6 K/km) and $H$ is the average height from which radiation to space originates (that is, 5.5 km). So sticking all these equations together you get a very simple climate model:\n",
        "\n",
        "$T_{surf} = \\left(  \\frac{S(1-a)}{4 \\sigma} \\right)^{1/4}+LH$.\t\t\t\t\t\t\t(5)"
      ],
      "metadata": {
        "id": "yP_6TaXZM7mM"
      }
    },
    {
      "cell_type": "markdown",
      "source": [
        "## Practical part 1"
      ],
      "metadata": {
        "id": "vI2aFlhlNYaW"
      }
    },
    {
      "cell_type": "markdown",
      "source": [
        "If you did the first practical, you will know about code \"cells\" in this notebook.\n",
        "\n",
        "If you don't, here is the summary. This notebook is divided into cells (if you click on anyhing here a little box will form around it, that is a cell).\n",
        "\n",
        "Some of the cells are text cells. They don't do anything.\n",
        "\n",
        "Some of the cells are python code.\n",
        "\n",
        "**In Noteable** python cells have **In []:** written next to them.\n",
        "\n",
        "**In Google colab** python cells have a symbol that looks like a \"play\" button if you hover over them.\n",
        "\n",
        "In both of these environments, if you click on the cell and then type `shift+enter` the cell will run.\n",
        "\n",
        "The next cell is some code. It is a function that calculates equation (5) above. **Do not change anything in this cell**. But you will need to run it before you can start making temperature calcluations."
      ],
      "metadata": {
        "id": "o-isfyUboB-S"
      }
    },
    {
      "cell_type": "code",
      "source": [
        "import numpy as np\n",
        "\n",
        "def calculate_surface_temperature(S,albedo,lapse_rate = 6,height = 5.5,StefanBolz=0.0000000567):\n",
        "  \"\"\"\n",
        "  a function for calculating the surface tempurature in degrees Kelvin\n",
        "\n",
        "  args:\n",
        "    S (flt): Solar irradiation in W/m^2\n",
        "    albedo (flt): the albedo\n",
        "    lapse_rate (flt): the lapse rate in K/km. default set to 6.\n",
        "    height (flt): height from which radiation to space originates (km). Default is 5.5\n",
        "    StefanBolz (flt): StefanBoltzman coefficient in W/m^2/K^4\n",
        "\n",
        "  return:\n",
        "    the surface temperature in kelvin\n",
        "  \"\"\"\n",
        "\n",
        "  power_term = np.divide(np.multiply(S, np.subtract(1,albedo)),4*StefanBolz)\n",
        "  power_term = np.power(power_term,0.25)\n",
        "  surf_temp = np.add(power_term, lapse_rate*height)\n",
        "\n",
        "  return surf_temp\n"
      ],
      "metadata": {
        "id": "joNC_FA9WRBa"
      },
      "execution_count": 2,
      "outputs": []
    },
    {
      "cell_type": "markdown",
      "source": [
        "Okay, now that you have the function, lets see if it works. We input the solar energy flux as well as the albedo to get the temperature in kelvin:"
      ],
      "metadata": {
        "id": "dnnpSwk3sHbA"
      }
    },
    {
      "cell_type": "code",
      "source": [
        "surf_temp_K = calculate_surface_temperature(1365,0.28)\n",
        "surf_temp_C = surf_temp_K-273\n",
        "print(\"The surface temperature is \"+str(surf_temp_C)+ \" degrees celsius\")"
      ],
      "metadata": {
        "colab": {
          "base_uri": "https://localhost:8080/"
        },
        "id": "h94OcFMrYpxT",
        "outputId": "61ba8b81-3e1d-44ce-d044-cb84332f85d4"
      },
      "execution_count": 3,
      "outputs": [
        {
          "output_type": "stream",
          "name": "stdout",
          "text": [
            "The surface temperature is 16.569793351513454 degrees celsius\n"
          ]
        }
      ]
    },
    {
      "cell_type": "markdown",
      "source": [
        "Okay, now we can start exploring some behaviour of this simplified climate system.\n",
        "\n",
        "The first thing we want to know is how sensitive the climate system is to changes in solar irradiation.\n",
        "\n",
        "Direct measurements of solar irradiation have only been undertaken since ~1975. The data can be found here: http://www.acrim.com/\n",
        "\n",
        "To go further back than the satellite data others use what are called ‘proxy’ records of solar variability. One such proxy is an isotope called $^{10}$Be, it is produced in the atmosphere by cosmic rays and you can measure it in ice cores where, using various techniques like looking at annual bands, one can reconstruct which parts of the cores are from what date. One such proxy record is reported here:\n",
        "\n",
        "*Crowley, TJ (2000), Causes of climate change over the past 1000 years, Science, 289, 270-277.*\n",
        "\n",
        "The punch line is that solar irradiance has varied by ~0.1-0.3% over the last 1000 years."
      ],
      "metadata": {
        "id": "0w0HtRsgpVP0"
      }
    },
    {
      "cell_type": "markdown",
      "source": [
        "### Make a set of irradiation values and run them to see the effect on temperature"
      ],
      "metadata": {
        "id": "gC-JoOglQV3e"
      }
    },
    {
      "cell_type": "markdown",
      "source": [
        "I'm going to test some values that have a central value of 1365  W/m^2 (about today's value) and vary it by a conservative 0.4%.\n",
        "\n",
        "I am going to want these in an array of numbers, which is the standard way python looks at quantitative data.\n",
        "\n",
        "I know how to write this code since I have been doing this for a number of years, but you don't need all that experience, I just wrote the below prompt into Bing chat:\n",
        "\n",
        "Bing prompt: **I want to make a numpy array with 21 values that vary by 0.3% with 1365 as the middle value.**"
      ],
      "metadata": {
        "id": "eKulOOBZQmF3"
      }
    },
    {
      "cell_type": "code",
      "source": [
        "# Define the middle value and the percentage variation\n",
        "middle_value = 1365\n",
        "percentage_variation = 0.004\n",
        "\n",
        "# Calculate the start and end values\n",
        "start_value = middle_value * (1 - percentage_variation)\n",
        "end_value = middle_value * (1 + percentage_variation)\n",
        "\n",
        "# Create the numpy array\n",
        "S_values = np.linspace(start_value, end_value, 21)\n",
        "\n",
        "print(S_values)"
      ],
      "metadata": {
        "colab": {
          "base_uri": "https://localhost:8080/"
        },
        "id": "f2VXRmgAYzp-",
        "outputId": "f946c7c3-12e1-44da-d9ad-d50957387d3f"
      },
      "execution_count": 6,
      "outputs": [
        {
          "output_type": "stream",
          "name": "stdout",
          "text": [
            "[1359.54  1360.086 1360.632 1361.178 1361.724 1362.27  1362.816 1363.362\n",
            " 1363.908 1364.454 1365.    1365.546 1366.092 1366.638 1367.184 1367.73\n",
            " 1368.276 1368.822 1369.368 1369.914 1370.46 ]\n"
          ]
        }
      ]
    },
    {
      "cell_type": "markdown",
      "source": [
        "Okay, now lets plug this in to the function and see what happens:"
      ],
      "metadata": {
        "id": "H9BiWdlL8BkN"
      }
    },
    {
      "cell_type": "code",
      "source": [
        "surf_temp_K = calculate_surface_temperature(S_values,0.30)\n",
        "print(\"Temperatures in Kelvin:\")\n",
        "print(surf_temp_K)\n",
        "print(\"And in degrees C:\")\n",
        "print(surf_temp_K-273)"
      ],
      "metadata": {
        "colab": {
          "base_uri": "https://localhost:8080/"
        },
        "id": "7JPb0Diitpoq",
        "outputId": "0cb7de6d-1135-4027-d645-67faed3cfdea"
      },
      "execution_count": 9,
      "outputs": [
        {
          "output_type": "stream",
          "name": "stdout",
          "text": [
            "Temperatures in Kelvin:\n",
            "[287.5140401  287.53958987 287.56513195 287.59066634 287.61619305\n",
            " 287.64171209 287.66722346 287.69272716 287.71822321 287.7437116\n",
            " 287.76919234 287.79466544 287.8201309  287.84558873 287.87103893\n",
            " 287.89648151 287.92191647 287.94734382 287.97276357 287.99817571\n",
            " 288.02358027]\n",
            "And in degrees C:\n",
            "[14.5140401  14.53958987 14.56513195 14.59066634 14.61619305 14.64171209\n",
            " 14.66722346 14.69272716 14.71822321 14.7437116  14.76919234 14.79466544\n",
            " 14.8201309  14.84558873 14.87103893 14.89648151 14.92191647 14.94734382\n",
            " 14.97276357 14.99817571 15.02358027]\n"
          ]
        }
      ]
    },
    {
      "cell_type": "code",
      "source": [
        "import pandas as pd\n",
        "\n",
        "# Create a dictionary where keys are column names and values are numpy arrays\n",
        "data = {\"temp_K\": surf_temp_K, \"S\": S_values}\n",
        "\n",
        "# Create the pandas DataFrame\n",
        "df = pd.DataFrame(data)\n",
        "\n",
        "print(df)"
      ],
      "metadata": {
        "colab": {
          "base_uri": "https://localhost:8080/"
        },
        "id": "oU70iYfj9uRj",
        "outputId": "cc0a313c-02d3-4e48-e6f7-6aa549ef13fc"
      },
      "execution_count": 12,
      "outputs": [
        {
          "output_type": "stream",
          "name": "stdout",
          "text": [
            "        temp_K         S\n",
            "0   287.514040  1359.540\n",
            "1   287.539590  1360.086\n",
            "2   287.565132  1360.632\n",
            "3   287.590666  1361.178\n",
            "4   287.616193  1361.724\n",
            "5   287.641712  1362.270\n",
            "6   287.667223  1362.816\n",
            "7   287.692727  1363.362\n",
            "8   287.718223  1363.908\n",
            "9   287.743712  1364.454\n",
            "10  287.769192  1365.000\n",
            "11  287.794665  1365.546\n",
            "12  287.820131  1366.092\n",
            "13  287.845589  1366.638\n",
            "14  287.871039  1367.184\n",
            "15  287.896482  1367.730\n",
            "16  287.921916  1368.276\n",
            "17  287.947344  1368.822\n",
            "18  287.972764  1369.368\n",
            "19  287.998176  1369.914\n",
            "20  288.023580  1370.460\n"
          ]
        }
      ]
    },
    {
      "cell_type": "code",
      "source": [
        "import seaborn as sns\n",
        "import matplotlib.pyplot as plt\n",
        "\n",
        "\n",
        "sns.lineplot(data=df, x=\"S\", y=\"temp_K\")\n",
        "\n",
        "plt.title('temp_K as a function of S')\n",
        "plt.xlabel('S')\n",
        "plt.ylabel('temp_K')\n",
        "\n",
        "# Add grey boxes in the background\n",
        "plt.grid(color='grey', linestyle='-', linewidth=0.25, alpha=0.5)"
      ],
      "metadata": {
        "colab": {
          "base_uri": "https://localhost:8080/",
          "height": 472
        },
        "id": "qn-12REO8Xmi",
        "outputId": "759de6d2-b49f-4d83-a4ed-5eb4e9423ed6"
      },
      "execution_count": 23,
      "outputs": [
        {
          "output_type": "display_data",
          "data": {
            "text/plain": [
              "<Figure size 640x480 with 1 Axes>"
            ],
            "image/png": "[encoded data removed]"
          },
          "metadata": {}
        }
      ]
    },
    {
      "cell_type": "code",
      "source": [],
      "metadata": {
        "id": "RECp9Wtv9Txj"
      },
      "execution_count": null,
      "outputs": []
    }
  ]
}
